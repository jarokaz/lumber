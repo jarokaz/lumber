{
 "cells": [
  {
   "cell_type": "markdown",
   "metadata": {},
   "source": [
    "# Keras protoptyping"
   ]
  },
  {
   "cell_type": "code",
   "execution_count": 36,
   "metadata": {},
   "outputs": [],
   "source": [
    "import numpy as np\n",
    "import h5py\n",
    "import tensorflow as tf\n"
   ]
  },
  {
   "cell_type": "code",
   "execution_count": 37,
   "metadata": {},
   "outputs": [],
   "source": [
    "training_file = '../data/hdf5/training.h5'\n",
    "train = h5py.File(training_file)\n",
    "images = train['images'].value\n",
    "labels = train['labels'].value\n"
   ]
  },
  {
   "cell_type": "code",
   "execution_count": 38,
   "metadata": {},
   "outputs": [
    {
     "data": {
      "text/plain": [
       "63391"
      ]
     },
     "execution_count": 38,
     "metadata": {},
     "output_type": "execute_result"
    }
   ],
   "source": [
    "len(images)"
   ]
  },
  {
   "cell_type": "code",
   "execution_count": 39,
   "metadata": {},
   "outputs": [],
   "source": [
    "\n",
    "flat_images = np.reshape(images, (63391, 37632))\n",
    "flat_images = flat_images/255"
   ]
  },
  {
   "cell_type": "code",
   "execution_count": 40,
   "metadata": {},
   "outputs": [
    {
     "data": {
      "text/plain": [
       "array([[0.80392157, 0.63921569, 0.35686275, ..., 0.8627451 , 0.67843137,\n",
       "        0.4745098 ],\n",
       "       [0.78431373, 0.58823529, 0.3254902 , ..., 0.34117647, 0.17647059,\n",
       "        0.05098039],\n",
       "       [0.6627451 , 0.39607843, 0.06666667, ..., 0.68627451, 0.41960784,\n",
       "        0.1254902 ],\n",
       "       ...,\n",
       "       [0.96862745, 0.77647059, 0.50588235, ..., 0.90196078, 0.70588235,\n",
       "        0.50980392],\n",
       "       [0.81176471, 0.64705882, 0.43137255, ..., 0.78039216, 0.59607843,\n",
       "        0.34509804],\n",
       "       [0.7254902 , 0.41568627, 0.11372549, ..., 0.1254902 , 0.08627451,\n",
       "        0.04313725]])"
      ]
     },
     "execution_count": 40,
     "metadata": {},
     "output_type": "execute_result"
    }
   ],
   "source": [
    "flat_images"
   ]
  },
  {
   "cell_type": "code",
   "execution_count": 42,
   "metadata": {},
   "outputs": [],
   "source": [
    "#inputs = tf.keras.layers.Input(shape=(112, 112, 3))\n",
    "#x = tf.keras.layers.Flatten()(inputs)\n",
    "\n",
    "inputs = tf.keras.layers.Input(shape=(37632,))\n",
    "y = tf.keras.layers.Dense(7, activation='softmax')(inputs)\n",
    "model = tf.keras.Model(inputs=inputs, outputs=y)\n",
    "model.compile(optimizer='sgd', loss='categorical_crossentropy', metrics=['accuracy'])\n"
   ]
  },
  {
   "cell_type": "code",
   "execution_count": 44,
   "metadata": {},
   "outputs": [
    {
     "name": "stdout",
     "output_type": "stream",
     "text": [
      "Epoch 1/20\n",
      " - 11s - loss: 13.4084 - acc: 0.1669\n",
      "Epoch 2/20\n",
      " - 11s - loss: 13.4188 - acc: 0.1675\n",
      "Epoch 3/20\n",
      " - 11s - loss: 13.4130 - acc: 0.1675\n",
      "Epoch 4/20\n",
      " - 11s - loss: 13.4188 - acc: 0.1675\n",
      "Epoch 5/20\n",
      " - 11s - loss: 13.4188 - acc: 0.1675\n",
      "Epoch 6/20\n",
      " - 11s - loss: 13.4188 - acc: 0.1675\n",
      "Epoch 7/20\n",
      " - 11s - loss: 13.4188 - acc: 0.1675\n",
      "Epoch 8/20\n",
      " - 11s - loss: 13.4188 - acc: 0.1675\n",
      "Epoch 9/20\n",
      " - 11s - loss: 13.4188 - acc: 0.1675\n",
      "Epoch 10/20\n",
      " - 11s - loss: 13.4188 - acc: 0.1675\n",
      "Epoch 11/20\n",
      " - 11s - loss: 13.4188 - acc: 0.1675\n",
      "Epoch 12/20\n",
      " - 11s - loss: 13.4188 - acc: 0.1675\n",
      "Epoch 13/20\n",
      " - 11s - loss: 13.4188 - acc: 0.1675\n",
      "Epoch 14/20\n",
      " - 11s - loss: 13.4188 - acc: 0.1675\n",
      "Epoch 15/20\n",
      " - 11s - loss: 13.4188 - acc: 0.1675\n",
      "Epoch 16/20\n",
      " - 11s - loss: 13.4188 - acc: 0.1675\n",
      "Epoch 17/20\n",
      " - 11s - loss: 13.4188 - acc: 0.1675\n",
      "Epoch 18/20\n",
      " - 11s - loss: 13.4188 - acc: 0.1675\n",
      "Epoch 19/20\n",
      " - 11s - loss: 13.4188 - acc: 0.1675\n",
      "Epoch 20/20\n",
      " - 11s - loss: 13.4188 - acc: 0.1675\n"
     ]
    },
    {
     "data": {
      "text/plain": [
       "<tensorflow.python.keras._impl.keras.callbacks.History at 0x7f5f4aa4e748>"
      ]
     },
     "execution_count": 44,
     "metadata": {},
     "output_type": "execute_result"
    }
   ],
   "source": [
    "\n",
    "one_hot_labels = tf.keras.utils.to_categorical(labels, num_classes=7)\n",
    "\n",
    "model.fit(flat_images, one_hot_labels, batch_size=64, epochs=20, verbose=2)"
   ]
  },
  {
   "cell_type": "code",
   "execution_count": null,
   "metadata": {},
   "outputs": [],
   "source": []
  }
 ],
 "metadata": {
  "kernelspec": {
   "display_name": "Python 3",
   "language": "python",
   "name": "python3"
  },
  "language_info": {
   "codemirror_mode": {
    "name": "ipython",
    "version": 3
   },
   "file_extension": ".py",
   "mimetype": "text/x-python",
   "name": "python",
   "nbconvert_exporter": "python",
   "pygments_lexer": "ipython3",
   "version": "3.6.4"
  }
 },
 "nbformat": 4,
 "nbformat_minor": 2
}
