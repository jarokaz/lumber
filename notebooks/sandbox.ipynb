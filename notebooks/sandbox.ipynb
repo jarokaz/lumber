{
 "cells": [
  {
   "cell_type": "code",
   "execution_count": 1,
   "metadata": {},
   "outputs": [
    {
     "name": "stderr",
     "output_type": "stream",
     "text": [
      "/home/demouser/anaconda3/lib/python3.6/site-packages/h5py/__init__.py:36: FutureWarning: Conversion of the second argument of issubdtype from `float` to `np.floating` is deprecated. In future, it will be treated as `np.float64 == np.dtype(float).type`.\n",
      "  from ._conv import register_converters as _register_converters\n"
     ]
    }
   ],
   "source": [
    "import tensorflow as tf\n",
    "from tensorflow.python.keras.datasets import mnist, cifar10\n",
    "from tensorflow.python.keras import Model, Input\n",
    "from tensorflow.python.keras.layers import Dense, Dropout, Flatten, Conv2D, MaxPooling2D\n",
    "from tensorflow.python.keras.optimizers import Adadelta"
   ]
  },
  {
   "cell_type": "code",
   "execution_count": 2,
   "metadata": {},
   "outputs": [],
   "source": [
    "import numpy as np\n",
    "import h5py\n",
    "\n",
    "training_file = '../data/hdf5/training.h5'\n",
    "train = h5py.File(training_file)\n",
    "images = train['images'].value\n",
    "labels = train['labels'].value"
   ]
  },
  {
   "cell_type": "code",
   "execution_count": 3,
   "metadata": {},
   "outputs": [
    {
     "data": {
      "text/plain": [
       "0"
      ]
     },
     "execution_count": 3,
     "metadata": {},
     "output_type": "execute_result"
    }
   ],
   "source": [
    "min(labels)"
   ]
  },
  {
   "cell_type": "code",
   "execution_count": 4,
   "metadata": {},
   "outputs": [],
   "source": [
    "y_train = tf.keras.utils.to_categorical(labels, 7)\n",
    "x_train = images/255"
   ]
  },
  {
   "cell_type": "code",
   "execution_count": 5,
   "metadata": {},
   "outputs": [
    {
     "data": {
      "text/plain": [
       "(63391, 112, 112, 3)"
      ]
     },
     "execution_count": 5,
     "metadata": {},
     "output_type": "execute_result"
    }
   ],
   "source": [
    "x_train.shape\n"
   ]
  },
  {
   "cell_type": "code",
   "execution_count": 6,
   "metadata": {},
   "outputs": [],
   "source": [
    "\n",
    "inputs = Input(shape=(112, 112, 3))\n",
    "x = Conv2D(32, (3, 3), activation='relu')(inputs)\n",
    "x = Conv2D(64, (3, 3), activation='relu')(x)\n",
    "x = MaxPooling2D(pool_size=(2, 2))(x)\n",
    "x = Dropout(0.25)(x)\n",
    "x = Flatten()(x)\n",
    "x = Dense(128, activation='relu')(x)\n",
    "x = Dropout(0.5)(x)\n",
    "y = Dense(7, activation='softmax')(x)\n",
    "\n",
    "model = Model(inputs=inputs, outputs=y)\n",
    "\n",
    "model.compile(optimizer = Adadelta(), \n",
    "              loss='categorical_crossentropy', \n",
    "              metrics=['accuracy'])\n"
   ]
  },
  {
   "cell_type": "code",
   "execution_count": null,
   "metadata": {},
   "outputs": [
    {
     "name": "stdout",
     "output_type": "stream",
     "text": [
      "Epoch 1/10\n",
      "63391/63391 [==============================]63391/63391 [==============================] - 108s 2ms/step - loss: 1.2211 - acc: 0.5627\n",
      "\n",
      "Epoch 2/10\n",
      "63391/63391 [==============================]63391/63391 [==============================] - 102s 2ms/step - loss: 0.7789 - acc: 0.7390\n",
      "\n",
      "Epoch 3/10\n",
      "63391/63391 [==============================]63391/63391 [==============================] - 102s 2ms/step - loss: 0.6607 - acc: 0.7819\n",
      "\n",
      "Epoch 4/10\n",
      "63391/63391 [==============================]63391/63391 [==============================] - 102s 2ms/step - loss: 0.5797 - acc: 0.8103\n",
      "\n",
      "Epoch 5/10\n",
      "63391/63391 [==============================]63391/63391 [==============================] - 102s 2ms/step - loss: 0.5067 - acc: 0.8351\n",
      "\n",
      "Epoch 6/10\n",
      "63391/63391 [==============================]63391/63391 [==============================] - 102s 2ms/step - loss: 0.4420 - acc: 0.8562\n",
      "\n",
      "Epoch 7/10\n",
      "21664/63391 [=========>....................]21664/63391 [=========>....................] - ETA: 1:07 - loss: 0.3731 - acc: 0.8787"
     ]
    }
   ],
   "source": [
    "model.fit(x_train, y_train, batch_size=32, epochs=10, verbose=1)"
   ]
  },
  {
   "cell_type": "code",
   "execution_count": null,
   "metadata": {},
   "outputs": [],
   "source": []
  }
 ],
 "metadata": {
  "kernelspec": {
   "display_name": "Python 3",
   "language": "python",
   "name": "python3"
  },
  "language_info": {
   "codemirror_mode": {
    "name": "ipython",
    "version": 3
   },
   "file_extension": ".py",
   "mimetype": "text/x-python",
   "name": "python",
   "nbconvert_exporter": "python",
   "pygments_lexer": "ipython3",
   "version": "3.6.4"
  }
 },
 "nbformat": 4,
 "nbformat_minor": 2
}
