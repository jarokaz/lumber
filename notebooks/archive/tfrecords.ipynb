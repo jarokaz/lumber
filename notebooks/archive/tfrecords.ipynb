{
 "cells": [
  {
   "cell_type": "code",
   "execution_count": 6,
   "metadata": {},
   "outputs": [],
   "source": [
    "import tensorflow as tf\n",
    "from PIL import Image\n",
    "import matplotlib.pyplot as plt\n",
    "from matplotlib.image import imread\n",
    "import numpy as np\n",
    "\n",
    "%matplotlib inline"
   ]
  },
  {
   "cell_type": "markdown",
   "metadata": {},
   "source": [
    "## Input functions for the estimater"
   ]
  },
  {
   "cell_type": "code",
   "execution_count": 41,
   "metadata": {},
   "outputs": [],
   "source": [
    "def parse(serialized):\n",
    "    # Define a dict with the schema reflecting the data in the TFRecords file\n",
    "    features = \\\n",
    "        {\n",
    "            'image': tf.FixedLenFeature([], tf.string),\n",
    "            'label': tf.FixedLenFeature([], tf.int64)\n",
    "        }\n",
    "    \n",
    "    # Parse the serialized data\n",
    "    parsed_example = tf.parse_single_example(serialized=serialized,\n",
    "                                             features=features)\n",
    "    \n",
    "    # Get the image as raw bytes\n",
    "    image_raw = parsed_example['image']\n",
    "    \n",
    "    # Convert the raw bytes to tensorflow datatypes\n",
    "    image = tf.decode_raw(image_raw, tf.uint8)\n",
    "    image = tf.cast(image, tf.float32)\n",
    "    \n",
    "    # Get the label\n",
    "    label = parsed_example['label']\n",
    "    \n",
    "    # Return the image and label as correct data types\n",
    "    return image, label\n",
    "    "
   ]
  },
  {
   "cell_type": "code",
   "execution_count": 42,
   "metadata": {},
   "outputs": [],
   "source": [
    "def input_fn(filenames, train, batch_size=32, buffer_size=2048):\n",
    "    # Create a TensorFlow Dataset-object which has functionality for reading and shuffling data \n",
    "    # from TFREcords files\n",
    "    \n",
    "    dataset = tf.data.TFRecordDataset(filenames=filenames)\n",
    "    \n",
    "    # Start building the pipeline\n",
    "    # Parse\n",
    "    dataset = dataset.map(parse)\n",
    "    \n",
    "    # Shuffle when training\n",
    "    if train:\n",
    "        dataset = dataset.shuffle(buffer_size = buffer_size)\n",
    "        # Allow infinite reading of the data\n",
    "        num_repeat = None\n",
    "    else:\n",
    "        num_repeat = 1\n",
    "        \n",
    "    # Repeat the dataset the given number of times\n",
    "    dataset = dataset.repeat(num_repeat)\n",
    "    \n",
    "    # Set the batch size\n",
    "    dataset = dataset.batch(batch_size)\n",
    "    \n",
    "    # Create an iterator\n",
    "    iterator = dataset.make_one_shot_iterator()\n",
    "    \n",
    "    images_batch, labels_batch = iterator.get_next()\n",
    "    \n",
    "    return {'image':images_batch}, labels_batch\n",
    "    \n",
    "    "
   ]
  },
  {
   "cell_type": "code",
   "execution_count": 55,
   "metadata": {},
   "outputs": [],
   "source": [
    "path_tfrecords_train = '../data/tfrecords/training.tfrecords'\n",
    "def train_input_fn():\n",
    "    return input_fn(filenames=path_tfrecords_train, train=True)"
   ]
  },
  {
   "cell_type": "code",
   "execution_count": 56,
   "metadata": {},
   "outputs": [],
   "source": [
    "path_tfrecords_test = '../data/tfrecords/validation.tfrecords'\n",
    "def test_input_fn():\n",
    "    return input_fn(filenames=path_tfrecords_test, train=False)"
   ]
  },
  {
   "cell_type": "code",
   "execution_count": 57,
   "metadata": {},
   "outputs": [],
   "source": [
    "image1 = np.array(Image.open('../data/validation/st1179_sound_9.PNG'))\n",
    "image2 = np.array(Image.open('../data/validation/st1179_dry_knot_3.PNG'))\n",
    "some_images = np.array([image1, image2])/255\n",
    "some_images = np.reshape(some_images, (2, 37632))\n"
   ]
  },
  {
   "cell_type": "code",
   "execution_count": 58,
   "metadata": {},
   "outputs": [],
   "source": [
    "predict_input_fn = tf.estimator.inputs.numpy_input_fn(\n",
    "    x={\"image\": some_images.astype(np.float32)},\n",
    "    num_epochs=1,\n",
    "    shuffle=False)"
   ]
  },
  {
   "cell_type": "code",
   "execution_count": 59,
   "metadata": {},
   "outputs": [],
   "source": [
    "def model_fn(features, labels, mode, params):\n",
    "    # Args:\n",
    "    #\n",
    "    # features: This is the x-arg from the input_fn.\n",
    "    # labels:   This is the y-arg from the input_fn.\n",
    "    # mode:     Either TRAIN, EVAL, or PREDICT\n",
    "    # params:   User-defined hyper-parameters, e.g. learning-rate.\n",
    "    \n",
    "    # Reference to the tensor named \"image\" in the input-function.\n",
    "    x = features[\"image\"]\n",
    "\n",
    "    # The convolutional layers expect 4-rank tensors\n",
    "    # but x is a 2-rank tensor, so reshape it.\n",
    "    net = tf.reshape(x, [-1, 112, 112, 3])    \n",
    "\n",
    "    # First convolutional layer.\n",
    "    net = tf.layers.conv2d(inputs=net, name='layer_conv1',\n",
    "                           filters=32, kernel_size=3,\n",
    "                           padding='same', activation=tf.nn.relu)\n",
    "    net = tf.layers.max_pooling2d(inputs=net, pool_size=2, strides=2)\n",
    "\n",
    "    # Second convolutional layer.\n",
    "    net = tf.layers.conv2d(inputs=net, name='layer_conv2',\n",
    "                           filters=32, kernel_size=3,\n",
    "                           padding='same', activation=tf.nn.relu)\n",
    "    net = tf.layers.max_pooling2d(inputs=net, pool_size=2, strides=2)    \n",
    "\n",
    "    # Flatten to a 2-rank tensor.\n",
    "    net = tf.contrib.layers.flatten(net)\n",
    "    # Eventually this should be replaced with:\n",
    "    # net = tf.layers.flatten(net)\n",
    "\n",
    "    # First fully-connected / dense layer.\n",
    "    # This uses the ReLU activation function.\n",
    "    net = tf.layers.dense(inputs=net, name='layer_fc1',\n",
    "                          units=128, activation=tf.nn.relu)    \n",
    "\n",
    "    # Second fully-connected / dense layer.\n",
    "    # This is the last layer so it does not use an activation function.\n",
    "    net = tf.layers.dense(inputs=net, name='layer_fc_2',\n",
    "                          units=7)\n",
    "\n",
    "    # Logits output of the neural network.\n",
    "    logits = net\n",
    "\n",
    "    # Softmax output of the neural network.\n",
    "    y_pred = tf.nn.softmax(logits=logits)\n",
    "    \n",
    "    # Classification output of the neural network.\n",
    "    y_pred_cls = tf.argmax(y_pred, axis=1)\n",
    "\n",
    "    if mode == tf.estimator.ModeKeys.PREDICT:\n",
    "        # If the estimator is supposed to be in prediction-mode\n",
    "        # then use the predicted class-number that is output by\n",
    "        # the neural network. Optimization etc. is not needed.\n",
    "        spec = tf.estimator.EstimatorSpec(mode=mode,\n",
    "                                          predictions=y_pred_cls)\n",
    "    else:\n",
    "        # Otherwise the estimator is supposed to be in either\n",
    "        # training or evaluation-mode. Note that the loss-function\n",
    "        # is also required in Evaluation mode.\n",
    "        \n",
    "        # Define the loss-function to be optimized, by first\n",
    "        # calculating the cross-entropy between the output of\n",
    "        # the neural network and the true labels for the input data.\n",
    "        # This gives the cross-entropy for each image in the batch.\n",
    "        cross_entropy = tf.nn.sparse_softmax_cross_entropy_with_logits(labels=labels,\n",
    "                                                                       logits=logits)\n",
    "\n",
    "        # Reduce the cross-entropy batch-tensor to a single number\n",
    "        # which can be used in optimization of the neural network.\n",
    "        loss = tf.reduce_mean(cross_entropy)\n",
    "\n",
    "        # Define the optimizer for improving the neural network.\n",
    "        optimizer = tf.train.AdamOptimizer(learning_rate=params[\"learning_rate\"])\n",
    "\n",
    "        # Get the TensorFlow op for doing a single optimization step.\n",
    "        train_op = optimizer.minimize(\n",
    "            loss=loss, global_step=tf.train.get_global_step())\n",
    "\n",
    "        # Define the evaluation metrics,\n",
    "        # in this case the classification accuracy.\n",
    "        metrics = \\\n",
    "        {\n",
    "            \"accuracy\": tf.metrics.accuracy(labels, y_pred_cls)\n",
    "        }\n",
    "\n",
    "        # Wrap all of this in an EstimatorSpec.\n",
    "        spec = tf.estimator.EstimatorSpec(\n",
    "            mode=mode,\n",
    "            loss=loss,\n",
    "            train_op=train_op,\n",
    "            eval_metric_ops=metrics)\n",
    "        \n",
    "    return spec"
   ]
  },
  {
   "cell_type": "code",
   "execution_count": 60,
   "metadata": {},
   "outputs": [],
   "source": [
    "params = {\"learning_rate\": 1e-4}"
   ]
  },
  {
   "cell_type": "code",
   "execution_count": 61,
   "metadata": {},
   "outputs": [
    {
     "name": "stdout",
     "output_type": "stream",
     "text": [
      "INFO:tensorflow:Using default config.\n",
      "INFO:tensorflow:Using config: {'_model_dir': '../checkpoints', '_tf_random_seed': None, '_save_summary_steps': 100, '_save_checkpoints_steps': None, '_save_checkpoints_secs': 600, '_session_config': None, '_keep_checkpoint_max': 5, '_keep_checkpoint_every_n_hours': 10000, '_log_step_count_steps': 100, '_service': None, '_cluster_spec': <tensorflow.python.training.server_lib.ClusterSpec object at 0x7fc628045240>, '_task_type': 'worker', '_task_id': 0, '_global_id_in_cluster': 0, '_master': '', '_evaluation_master': '', '_is_chief': True, '_num_ps_replicas': 0, '_num_worker_replicas': 1}\n"
     ]
    }
   ],
   "source": [
    "model = tf.estimator.Estimator(model_fn=model_fn,\n",
    "                               params=params,\n",
    "                               model_dir=\"../checkpoints\")"
   ]
  },
  {
   "cell_type": "code",
   "execution_count": 70,
   "metadata": {},
   "outputs": [
    {
     "name": "stdout",
     "output_type": "stream",
     "text": [
      "INFO:tensorflow:Calling model_fn.\n",
      "INFO:tensorflow:Done calling model_fn.\n",
      "INFO:tensorflow:Create CheckpointSaverHook.\n",
      "INFO:tensorflow:Graph was finalized.\n",
      "INFO:tensorflow:Restoring parameters from ../checkpoints/model.ckpt-1400\n",
      "INFO:tensorflow:Running local_init_op.\n",
      "INFO:tensorflow:Done running local_init_op.\n",
      "INFO:tensorflow:Saving checkpoints for 1401 into ../checkpoints/model.ckpt.\n",
      "INFO:tensorflow:loss = 1.3754535, step = 1401\n",
      "INFO:tensorflow:global_step/sec: 46.1134\n",
      "INFO:tensorflow:loss = 0.8299999, step = 1501 (2.170 sec)\n",
      "INFO:tensorflow:global_step/sec: 49.3816\n",
      "INFO:tensorflow:loss = 1.1330652, step = 1601 (2.025 sec)\n",
      "INFO:tensorflow:global_step/sec: 51.4383\n",
      "INFO:tensorflow:loss = 0.31214523, step = 1701 (1.946 sec)\n",
      "INFO:tensorflow:global_step/sec: 49.7659\n",
      "INFO:tensorflow:loss = 0.12395956, step = 1801 (2.009 sec)\n",
      "INFO:tensorflow:global_step/sec: 50.5562\n",
      "INFO:tensorflow:loss = 0.92764336, step = 1901 (1.976 sec)\n",
      "INFO:tensorflow:global_step/sec: 50.4679\n",
      "INFO:tensorflow:loss = 0.798753, step = 2001 (1.981 sec)\n",
      "INFO:tensorflow:global_step/sec: 50.773\n",
      "INFO:tensorflow:loss = 0.69248295, step = 2101 (1.972 sec)\n",
      "INFO:tensorflow:global_step/sec: 50.5096\n",
      "INFO:tensorflow:loss = 0.84701407, step = 2201 (1.979 sec)\n",
      "INFO:tensorflow:global_step/sec: 50.9687\n",
      "INFO:tensorflow:loss = 0.8330307, step = 2301 (1.960 sec)\n",
      "INFO:tensorflow:global_step/sec: 50.6247\n",
      "INFO:tensorflow:loss = 0.8578609, step = 2401 (1.978 sec)\n",
      "INFO:tensorflow:global_step/sec: 50.7308\n",
      "INFO:tensorflow:loss = 0.7742214, step = 2501 (1.969 sec)\n",
      "INFO:tensorflow:global_step/sec: 51.8835\n",
      "INFO:tensorflow:loss = 0.6383521, step = 2601 (1.928 sec)\n",
      "INFO:tensorflow:global_step/sec: 51.1147\n",
      "INFO:tensorflow:loss = 0.25970632, step = 2701 (1.955 sec)\n",
      "INFO:tensorflow:global_step/sec: 50.6145\n",
      "INFO:tensorflow:loss = 0.7599225, step = 2801 (1.978 sec)\n",
      "INFO:tensorflow:global_step/sec: 50.985\n",
      "INFO:tensorflow:loss = 0.38789606, step = 2901 (1.962 sec)\n",
      "INFO:tensorflow:global_step/sec: 50.349\n",
      "INFO:tensorflow:loss = 0.8942133, step = 3001 (1.986 sec)\n",
      "INFO:tensorflow:global_step/sec: 50.9296\n",
      "INFO:tensorflow:loss = 0.25968754, step = 3101 (1.963 sec)\n",
      "INFO:tensorflow:global_step/sec: 50.895\n",
      "INFO:tensorflow:loss = 0.18377228, step = 3201 (1.964 sec)\n",
      "INFO:tensorflow:global_step/sec: 49.7664\n",
      "INFO:tensorflow:loss = 0.004883953, step = 3301 (2.010 sec)\n",
      "INFO:tensorflow:global_step/sec: 46.8946\n",
      "INFO:tensorflow:loss = 0.98933625, step = 3401 (2.135 sec)\n",
      "INFO:tensorflow:global_step/sec: 51.1015\n",
      "INFO:tensorflow:loss = 1.2949915, step = 3501 (1.955 sec)\n",
      "INFO:tensorflow:global_step/sec: 49.7194\n",
      "INFO:tensorflow:loss = 0.74293447, step = 3601 (2.012 sec)\n",
      "INFO:tensorflow:global_step/sec: 51.6966\n",
      "INFO:tensorflow:loss = 0.43350518, step = 3701 (1.932 sec)\n",
      "INFO:tensorflow:global_step/sec: 51.246\n",
      "INFO:tensorflow:loss = 0.39386868, step = 3801 (1.953 sec)\n",
      "INFO:tensorflow:global_step/sec: 50.1678\n",
      "INFO:tensorflow:loss = 0.5621455, step = 3901 (1.992 sec)\n",
      "INFO:tensorflow:global_step/sec: 50.9177\n",
      "INFO:tensorflow:loss = 0.46199137, step = 4001 (1.966 sec)\n",
      "INFO:tensorflow:global_step/sec: 50.3222\n",
      "INFO:tensorflow:loss = 0.47996154, step = 4101 (1.986 sec)\n",
      "INFO:tensorflow:global_step/sec: 51.8608\n",
      "INFO:tensorflow:loss = 0.44074047, step = 4201 (1.929 sec)\n",
      "INFO:tensorflow:global_step/sec: 50.5478\n",
      "INFO:tensorflow:loss = 0.3324968, step = 4301 (1.977 sec)\n",
      "INFO:tensorflow:global_step/sec: 51.3392\n",
      "INFO:tensorflow:loss = 0.45157158, step = 4401 (1.949 sec)\n",
      "INFO:tensorflow:global_step/sec: 51.5497\n",
      "INFO:tensorflow:loss = 0.6838472, step = 4501 (1.941 sec)\n",
      "INFO:tensorflow:global_step/sec: 51.7657\n",
      "INFO:tensorflow:loss = 0.22158268, step = 4601 (1.932 sec)\n",
      "INFO:tensorflow:global_step/sec: 52.0694\n",
      "INFO:tensorflow:loss = 0.3967225, step = 4701 (1.918 sec)\n",
      "INFO:tensorflow:global_step/sec: 50.8722\n",
      "INFO:tensorflow:loss = 0.11697574, step = 4801 (1.968 sec)\n",
      "INFO:tensorflow:global_step/sec: 51.2124\n",
      "INFO:tensorflow:loss = 0.51024675, step = 4901 (1.950 sec)\n",
      "INFO:tensorflow:global_step/sec: 49.5662\n",
      "INFO:tensorflow:loss = 0.5588459, step = 5001 (2.019 sec)\n",
      "INFO:tensorflow:global_step/sec: 51.3001\n",
      "INFO:tensorflow:loss = 0.034868535, step = 5101 (1.947 sec)\n",
      "INFO:tensorflow:global_step/sec: 50.6648\n",
      "INFO:tensorflow:loss = 0.20859843, step = 5201 (1.975 sec)\n",
      "INFO:tensorflow:global_step/sec: 51.5474\n",
      "INFO:tensorflow:loss = 0.0027456442, step = 5301 (1.939 sec)\n",
      "INFO:tensorflow:global_step/sec: 48.0809\n",
      "INFO:tensorflow:loss = 0.9701742, step = 5401 (2.081 sec)\n",
      "INFO:tensorflow:global_step/sec: 51.6387\n",
      "INFO:tensorflow:loss = 0.8280765, step = 5501 (1.938 sec)\n",
      "INFO:tensorflow:global_step/sec: 51.0843\n",
      "INFO:tensorflow:loss = 0.7715435, step = 5601 (1.956 sec)\n",
      "INFO:tensorflow:global_step/sec: 49.659\n",
      "INFO:tensorflow:loss = 0.3549022, step = 5701 (2.014 sec)\n",
      "INFO:tensorflow:global_step/sec: 51.1888\n",
      "INFO:tensorflow:loss = 0.19875088, step = 5801 (1.955 sec)\n",
      "INFO:tensorflow:global_step/sec: 50.9775\n",
      "INFO:tensorflow:loss = 0.7255947, step = 5901 (1.962 sec)\n",
      "INFO:tensorflow:global_step/sec: 51.0868\n",
      "INFO:tensorflow:loss = 0.4119184, step = 6001 (1.955 sec)\n",
      "INFO:tensorflow:global_step/sec: 51.5516\n",
      "INFO:tensorflow:loss = 0.4735902, step = 6101 (1.941 sec)\n",
      "INFO:tensorflow:global_step/sec: 50.6297\n",
      "INFO:tensorflow:loss = 0.16975695, step = 6201 (1.975 sec)\n",
      "INFO:tensorflow:global_step/sec: 48.9437\n",
      "INFO:tensorflow:loss = 0.86799955, step = 6301 (2.042 sec)\n",
      "INFO:tensorflow:global_step/sec: 49.707\n",
      "INFO:tensorflow:loss = 0.2954351, step = 6401 (2.014 sec)\n",
      "INFO:tensorflow:global_step/sec: 49.7758\n",
      "INFO:tensorflow:loss = 0.4140606, step = 6501 (2.009 sec)\n",
      "INFO:tensorflow:global_step/sec: 51.4665\n",
      "INFO:tensorflow:loss = 0.44441986, step = 6601 (1.941 sec)\n",
      "INFO:tensorflow:global_step/sec: 51.4714\n",
      "INFO:tensorflow:loss = 0.4084655, step = 6701 (1.943 sec)\n",
      "INFO:tensorflow:global_step/sec: 51.444\n",
      "INFO:tensorflow:loss = 0.11546941, step = 6801 (1.944 sec)\n",
      "INFO:tensorflow:global_step/sec: 50.9361\n",
      "INFO:tensorflow:loss = 0.39299878, step = 6901 (1.963 sec)\n",
      "INFO:tensorflow:global_step/sec: 52.2251\n",
      "INFO:tensorflow:loss = 0.5749438, step = 7001 (1.917 sec)\n",
      "INFO:tensorflow:global_step/sec: 51.8493\n",
      "INFO:tensorflow:loss = 0.083375506, step = 7101 (1.927 sec)\n",
      "INFO:tensorflow:global_step/sec: 51.24\n",
      "INFO:tensorflow:loss = 0.010145862, step = 7201 (1.954 sec)\n",
      "INFO:tensorflow:global_step/sec: 54.2485\n",
      "INFO:tensorflow:loss = 0.0032958356, step = 7301 (1.843 sec)\n",
      "INFO:tensorflow:global_step/sec: 45.6006\n",
      "INFO:tensorflow:loss = 0.7134207, step = 7401 (2.192 sec)\n",
      "INFO:tensorflow:global_step/sec: 50.6571\n",
      "INFO:tensorflow:loss = 0.43986052, step = 7501 (1.976 sec)\n",
      "INFO:tensorflow:global_step/sec: 48.9948\n",
      "INFO:tensorflow:loss = 0.22808754, step = 7601 (2.042 sec)\n",
      "INFO:tensorflow:global_step/sec: 50.6722\n",
      "INFO:tensorflow:loss = 0.26291662, step = 7701 (1.971 sec)\n",
      "INFO:tensorflow:global_step/sec: 50.6382\n",
      "INFO:tensorflow:loss = 0.11673466, step = 7801 (1.977 sec)\n",
      "INFO:tensorflow:global_step/sec: 50.6068\n",
      "INFO:tensorflow:loss = 0.45559415, step = 7901 (1.974 sec)\n",
      "INFO:tensorflow:global_step/sec: 50.348\n",
      "INFO:tensorflow:loss = 0.26875538, step = 8001 (1.987 sec)\n",
      "INFO:tensorflow:global_step/sec: 50.1119\n",
      "INFO:tensorflow:loss = 0.34373444, step = 8101 (1.994 sec)\n",
      "INFO:tensorflow:global_step/sec: 49.5418\n",
      "INFO:tensorflow:loss = 0.19128984, step = 8201 (2.019 sec)\n",
      "INFO:tensorflow:global_step/sec: 51.488\n",
      "INFO:tensorflow:loss = 1.0214574, step = 8301 (1.944 sec)\n",
      "INFO:tensorflow:global_step/sec: 50.4588\n",
      "INFO:tensorflow:loss = 0.39861348, step = 8401 (1.980 sec)\n",
      "INFO:tensorflow:global_step/sec: 50.6492\n",
      "INFO:tensorflow:loss = 0.32878137, step = 8501 (1.974 sec)\n",
      "INFO:tensorflow:global_step/sec: 51.0182\n",
      "INFO:tensorflow:loss = 0.13756675, step = 8601 (1.962 sec)\n",
      "INFO:tensorflow:global_step/sec: 51.2059\n",
      "INFO:tensorflow:loss = 0.1485866, step = 8701 (1.951 sec)\n",
      "INFO:tensorflow:global_step/sec: 51.9707\n",
      "INFO:tensorflow:loss = 0.14456998, step = 8801 (1.924 sec)\n",
      "INFO:tensorflow:global_step/sec: 51.7232\n",
      "INFO:tensorflow:loss = 0.16510624, step = 8901 (1.934 sec)\n",
      "INFO:tensorflow:global_step/sec: 51.0689\n",
      "INFO:tensorflow:loss = 0.1342998, step = 9001 (1.958 sec)\n",
      "INFO:tensorflow:global_step/sec: 52.0708\n",
      "INFO:tensorflow:loss = 0.020371556, step = 9101 (1.920 sec)\n",
      "INFO:tensorflow:global_step/sec: 51.1876\n",
      "INFO:tensorflow:loss = 0.0030729785, step = 9201 (1.954 sec)\n",
      "INFO:tensorflow:global_step/sec: 60.3885\n",
      "INFO:tensorflow:loss = 0.0015507048, step = 9301 (1.658 sec)\n",
      "INFO:tensorflow:Saving checkpoints for 9400 into ../checkpoints/model.ckpt.\n",
      "INFO:tensorflow:Loss for final step: 0.4810357.\n"
     ]
    },
    {
     "data": {
      "text/plain": [
       "<tensorflow.python.estimator.estimator.Estimator at 0x7fc6280450b8>"
      ]
     },
     "execution_count": 70,
     "metadata": {},
     "output_type": "execute_result"
    }
   ],
   "source": [
    "model.train(input_fn=train_input_fn, steps=8000)"
   ]
  },
  {
   "cell_type": "code",
   "execution_count": 71,
   "metadata": {},
   "outputs": [
    {
     "name": "stdout",
     "output_type": "stream",
     "text": [
      "INFO:tensorflow:Calling model_fn.\n",
      "INFO:tensorflow:Done calling model_fn.\n",
      "INFO:tensorflow:Starting evaluation at 2018-03-12-03:33:16\n",
      "INFO:tensorflow:Graph was finalized.\n",
      "INFO:tensorflow:Restoring parameters from ../checkpoints/model.ckpt-9400\n",
      "INFO:tensorflow:Running local_init_op.\n",
      "INFO:tensorflow:Done running local_init_op.\n",
      "INFO:tensorflow:Finished evaluation at 2018-03-12-03:33:23\n",
      "INFO:tensorflow:Saving dict for global step 9400: accuracy = 0.61051023, global_step = 9400, loss = 1.8392712\n"
     ]
    }
   ],
   "source": [
    "result = model.evaluate(input_fn=test_input_fn)"
   ]
  },
  {
   "cell_type": "code",
   "execution_count": 66,
   "metadata": {},
   "outputs": [
    {
     "data": {
      "text/plain": [
       "{'accuracy': 0.36923468, 'global_step': 1400, 'loss': 3.276199}"
      ]
     },
     "execution_count": 66,
     "metadata": {},
     "output_type": "execute_result"
    }
   ],
   "source": [
    "result"
   ]
  },
  {
   "cell_type": "code",
   "execution_count": 67,
   "metadata": {},
   "outputs": [],
   "source": [
    "predictions = model.predict(input_fn=predict_input_fn)"
   ]
  },
  {
   "cell_type": "code",
   "execution_count": 69,
   "metadata": {},
   "outputs": [
    {
     "name": "stdout",
     "output_type": "stream",
     "text": [
      "INFO:tensorflow:Calling model_fn.\n",
      "INFO:tensorflow:Done calling model_fn.\n",
      "INFO:tensorflow:Graph was finalized.\n",
      "INFO:tensorflow:Restoring parameters from ../checkpoints/model.ckpt-1400\n",
      "INFO:tensorflow:Running local_init_op.\n",
      "INFO:tensorflow:Done running local_init_op.\n"
     ]
    },
    {
     "data": {
      "text/plain": [
       "array([3, 3])"
      ]
     },
     "execution_count": 69,
     "metadata": {},
     "output_type": "execute_result"
    }
   ],
   "source": [
    "cls_pred = np.array(list(predictions))\n",
    "cls_pred"
   ]
  },
  {
   "cell_type": "code",
   "execution_count": null,
   "metadata": {},
   "outputs": [],
   "source": []
  }
 ],
 "metadata": {
  "kernelspec": {
   "display_name": "Python 3",
   "language": "python",
   "name": "python3"
  },
  "language_info": {
   "codemirror_mode": {
    "name": "ipython",
    "version": 3
   },
   "file_extension": ".py",
   "mimetype": "text/x-python",
   "name": "python",
   "nbconvert_exporter": "python",
   "pygments_lexer": "ipython3",
   "version": "3.6.4"
  }
 },
 "nbformat": 4,
 "nbformat_minor": 2
}
